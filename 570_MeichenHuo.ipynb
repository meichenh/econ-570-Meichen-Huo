{
 "cells": [
  {
   "cell_type": "markdown",
   "id": "w_KCfOjoYad0",
   "metadata": {
    "id": "w_KCfOjoYad0"
   },
   "source": [
    "# 1. Preliminary: Preparations\n",
    "In this section, we includes all of the preparation needed to run our experiments. This includes\n",
    "1. A import of all of the utility libraries\n",
    "2. A load of functions needed in our context\n",
    "3. A load of hyperparameter needed"
   ]
  },
  {
   "cell_type": "markdown",
   "id": "5NqiUWiFaJ3w",
   "metadata": {
    "id": "5NqiUWiFaJ3w"
   },
   "source": [
    "## 1.1 Import Utility Libraries"
   ]
  },
  {
   "cell_type": "code",
   "execution_count": 46,
   "id": "cabb9122",
   "metadata": {
    "id": "cabb9122"
   },
   "outputs": [],
   "source": [
    "import pandas as pd\n",
    "import numpy as np\n",
    "import statsmodels.api as sm\n",
    "import graphviz as gr\n",
    "import random\n",
    "import statsmodels.api as sm\n",
    "from sklearn.model_selection import cross_val_score\n",
    "from sklearn.model_selection import RepeatedKFold\n",
    "from sklearn.linear_model import Lasso\n",
    "from sklearn.feature_selection import SelectFromModel\n",
    "import matplotlib.pyplot as plt\n",
    "from tqdm import tqdm\n",
    "\n",
    "# Makes sure the seed is different and random everytime we load the libraries\n",
    "random.seed(np.random.randint(0,100))"
   ]
  },
  {
   "cell_type": "markdown",
   "id": "t5enINSGYD7I",
   "metadata": {
    "id": "t5enINSGYD7I"
   },
   "source": [
    "## 1.2. Load Context Libries\n",
    "- In the following block, we will load all of the necessary library functions specific to our task."
   ]
  },
  {
   "cell_type": "code",
   "execution_count": 47,
   "id": "Xkdnogs7YHLv",
   "metadata": {
    "id": "Xkdnogs7YHLv"
   },
   "outputs": [],
   "source": [
    "def fn_variance(data, ddof=0):\n",
    "    n = len(data)\n",
    "    mean = sum(data) / n\n",
    "    return sum((x - mean) ** 2 for x in data) / (n - ddof)\n",
    "# Note this is equivalent to np.var(Yt,ddof)\n",
    "\n",
    "def fn_variance(data, ddof=0):\n",
    "    n = len(data)\n",
    "    mean = sum(data) / n\n",
    "    return sum((x - mean) ** 2 for x in data) / (n - ddof)\n",
    "# Note this is equivalent to np.var(Yt,ddof)\n",
    "\n",
    "def fn_generate_cov(dim):\n",
    "    acc  = []\n",
    "    for i in range(dim):\n",
    "        row = np.ones((1,dim)) * corr\n",
    "        row[0][i] = 1\n",
    "        acc.append(row)\n",
    "    return np.concatenate(acc,axis=0)\n",
    "\n",
    "def fn_generate_multnorm(nobs,corr,nvar):\n",
    "\n",
    "    mu = np.zeros(nvar)\n",
    "    std = (np.abs(np.random.normal(loc = 1, scale = .5,size = (nvar,1))))**(1/2)\n",
    "    # generate random normal distribution\n",
    "    acc = []\n",
    "    for i in range(nvar):\n",
    "        acc.append(np.reshape(np.random.normal(mu[i],std[i],nobs),(nobs,-1)))\n",
    "    \n",
    "    normvars = np.concatenate(acc,axis=1)\n",
    "\n",
    "    cov = fn_generate_cov(nvar)\n",
    "    C = np.linalg.cholesky(cov)\n",
    "\n",
    "    Y = np.transpose(np.dot(C,np.transpose(normvars)))\n",
    "\n",
    "#     return (Y,np.round(np.corrcoef(Y,rowvar=False),2))\n",
    "    return Y\n",
    "\n",
    "def fn_randomize_treatment(N,p=0.5):\n",
    "    treated = random.sample(range(N), round(N*p))\n",
    "    return np.array([(1 if i in treated else 0) for i in range(N)]).reshape([N,1])\n",
    "\n",
    "def fn_generate_data(tau,N,p,p0,corr,conf = True,flagX = False):\n",
    "    \"\"\"\n",
    "    p0(int): number of covariates with nonzero coefficients\n",
    "    \"\"\"\n",
    "    nvar = p+2 # 1 confounder and variable for randomizing treatment\n",
    "    corr = 0.5 # correlation for multivariate normal\n",
    "\n",
    "    if conf==False:\n",
    "        conf_mult = 0 # remove confounder from outcome\n",
    "        \n",
    "    allX = fn_generate_multnorm(N,corr,nvar)\n",
    "    W0 = allX[:,0].reshape([N,1]) # variable for RDD assignment\n",
    "    C = allX[:,1].reshape([N,1]) # confounder\n",
    "    X = allX[:,2:] # observed covariates\n",
    "    \n",
    "    T = fn_randomize_treatment(N) # choose treated units\n",
    "    err = np.random.normal(0,1,[N,1])\n",
    "    beta0 = np.random.normal(5,5,[p,1])\n",
    "    \n",
    "    beta0[p0:p] = 0 # sparse model\n",
    "    Yab = tau*T+X@beta0+conf_mult*0.6*C+err\n",
    "    if flagX==False:\n",
    "        return (Yab,T)\n",
    "    else:\n",
    "        return (Yab,T,X)\n",
    "    \n",
    "    # regression discontinuity\n",
    "#     W = W0 + 0.5*C+3*X[:,80].reshape([N,1])-6*X[:,81].reshape([N,1])\n",
    "#     treated = 1*(W>0)\n",
    "#     Yrdd = 1.2* treated - 4*W + X@beta0 +0.6*C+err\n",
    "\n",
    "def fn_tauhat_means(Yt,Yc):\n",
    "    nt = len(Yt)\n",
    "    nc = len(Yc)\n",
    "    tauhat = np.mean(Yt)-np.mean(Yc)\n",
    "    se_tauhat = (np.var(Yt,ddof=1)/nt+np.var(Yc,ddof=1)/nc)**(1/2)\n",
    "    return (tauhat,se_tauhat)\n",
    "\n",
    "def fn_bias_rmse_size(theta0,thetahat,se_thetahat,cval = 1.96):\n",
    "    \"\"\"\n",
    "    theta0 - true parameter value\n",
    "    thetatahat - estimated parameter value\n",
    "    se_thetahat - estiamted se of thetahat\n",
    "    \"\"\"\n",
    "    b = thetahat - theta0\n",
    "    bias = np.mean(b)\n",
    "    rmse = np.sqrt(np.mean(b**2))\n",
    "    tval = b/se_thetahat # paramhat/se_paramhat H0: theta = 0\n",
    "    size = np.mean(1*(np.abs(tval)>cval))\n",
    "    # note size calculated at true parameter value\n",
    "    return (bias,rmse,size)\n",
    "\n",
    "def fn_run_experiments(tau,Nrange,p,p0,corr,conf,flagX=False):\n",
    "    n_values = []\n",
    "    tauhats = []\n",
    "    sehats = []\n",
    "    for N in tqdm(Nrange):\n",
    "        n_values = n_values + [N]\n",
    "        if flagX==False:\n",
    "            Yexp,T = fn_generate_data(tau,N,p,p0,corr,conf,flagX)\n",
    "            Yt = Yexp[np.where(T==1)[0],:]\n",
    "            Yc = Yexp[np.where(T==0)[0],:]\n",
    "            tauhat,se_tauhat = fn_tauhat_means(Yt,Yc)            \n",
    "        elif flagX==1:\n",
    "            # use the right covariates in regression\n",
    "            Yexp,T,X = fn_generate_data(tau,N,p,p0,corr,conf,flagX)\n",
    "            Xobs = X[:,:p0]\n",
    "            covars = np.concatenate([T,Xobs],axis = 1)\n",
    "            mod = sm.OLS(Yexp,covars)\n",
    "            res = mod.fit()\n",
    "            tauhat = res.params[0]\n",
    "            se_tauhat = res.HC1_se[0]   \n",
    "        tauhats = tauhats + [tauhat]\n",
    "        sehats = sehats + [se_tauhat]    \n",
    "        \n",
    "    return (n_values,tauhats,sehats,lb,ub)"
   ]
  },
  {
   "cell_type": "markdown",
   "id": "hxelJ6P4avM3",
   "metadata": {
    "id": "hxelJ6P4avM3"
   },
   "source": [
    "\n",
    "## 1.3: Experiment Class Definition"
   ]
  },
  {
   "cell_type": "code",
   "execution_count": 48,
   "id": "rDq_87iqazfp",
   "metadata": {
    "id": "rDq_87iqazfp"
   },
   "outputs": [],
   "source": [
    "tau = 2\n",
    "corr = .5\n",
    "conf=False\n",
    "p = 100\n",
    "p0 = 50\n",
    "flagX = 1\n",
    "N = 1000\n",
    "\n",
    "class Experiment:\n",
    "\n",
    "  def __init__(self):\n",
    "    pass\n",
    "  \n",
    "  def __str__(self):\n",
    "    return f\"Context : tau = {self.tau}, corr = {self.corr}, conf = {self.conf}, p = {self.p}, p0 = {self.p0}, flagX = {flagX}, N = {N}\"\n",
    "\n",
    "  def context_load(self,tau,corr,conf,p,p0,flagX,N):\n",
    "    self.tau = tau\n",
    "    self.corr = corr\n",
    "    self.conf = conf\n",
    "    self.p = p\n",
    "    self.p0 = p0\n",
    "    self.flagX = flagX\n",
    "    self.N = N\n",
    "  \n",
    "  def DGP_experiment1(self,save_csv='None'):\n",
    "    \"\"\" Simulates a DGP with the hyperparameters given \n",
    "    Args: \n",
    "      save_csv (str): saves csv with the file name given \n",
    "\n",
    "    Returns:\n",
    "      A dataframe of the generated data\n",
    "\n",
    "    \"\"\"\n",
    "    Y,T,X = fn_generate_data(self.tau,self.N,self.p,self.p0,self.corr,self.conf,self.flagX)\n",
    "    data = pd.DataFrame(np.concatenate([Y,T,X], axis=1))\n",
    "    print(\"Data generated with \" + self.__str__())\n",
    "    display(data)\n",
    "    \n",
    "    \n",
    "    if save_csv != 'None':\n",
    "      data.to_csv(save_csv)\n",
    "    \n",
    "  def monte_carlo(self,N_list,R):\n",
    "    \"\"\" Simulates a Monte_Carlo with the hyperparameters given\n",
    "    Args: \n",
    "      N_list (list-like): The number of simulations to run \n",
    "\n",
    "    Returns:\n",
    "      A analysis on the estimated tau\n",
    "\n",
    "    \"\"\"\n"
   ]
  },
  {
   "cell_type": "markdown",
   "id": "Rhehy97XYi0S",
   "metadata": {
    "id": "Rhehy97XYi0S"
   },
   "source": [
    "# 2. Environment 1: DGP with covariates:\n",
    "Here, we will work with the following environment:$$Y = \\tau*T+\\beta'*X+e$$\n",
    "\n",
    "We attempt to analyze this environment with four approaches:\n",
    "1. Simulate a DGP\n",
    "2. Illustrate DGP with DAG\n",
    "3. Monte Carlo Experiment\n",
    "4. Provide a real-life example where this environment might have take place"
   ]
  },
  {
   "cell_type": "code",
   "execution_count": 50,
   "id": "FmmhmSj5eXka",
   "metadata": {
    "id": "FmmhmSj5eXka"
   },
   "outputs": [],
   "source": [
    "experiment1 = Experiment()"
   ]
  },
  {
   "cell_type": "markdown",
   "id": "bc61e399",
   "metadata": {
    "id": "bc61e399"
   },
   "source": [
    "## 2.1.Simulate a DGP"
   ]
  },
  {
   "cell_type": "code",
   "execution_count": 52,
   "id": "v4Ln-C4RbQ72",
   "metadata": {
    "colab": {
     "base_uri": "https://localhost:8080/",
     "height": 441
    },
    "id": "v4Ln-C4RbQ72",
    "outputId": "cc2060ea-3087-44b1-9b15-99fd31c2330b"
   },
   "outputs": [
    {
     "name": "stdout",
     "output_type": "stream",
     "text": [
      "Data generated with Context : tau = 5, corr = 0.5, conf = False, p = 10, p0 = 10, flagX = 1, N = 1000\n"
     ]
    },
    {
     "data": {
      "text/html": [
       "<div>\n",
       "<style scoped>\n",
       "    .dataframe tbody tr th:only-of-type {\n",
       "        vertical-align: middle;\n",
       "    }\n",
       "\n",
       "    .dataframe tbody tr th {\n",
       "        vertical-align: top;\n",
       "    }\n",
       "\n",
       "    .dataframe thead th {\n",
       "        text-align: right;\n",
       "    }\n",
       "</style>\n",
       "<table border=\"1\" class=\"dataframe\">\n",
       "  <thead>\n",
       "    <tr style=\"text-align: right;\">\n",
       "      <th></th>\n",
       "      <th>0</th>\n",
       "      <th>1</th>\n",
       "      <th>2</th>\n",
       "      <th>3</th>\n",
       "      <th>4</th>\n",
       "      <th>5</th>\n",
       "      <th>6</th>\n",
       "      <th>7</th>\n",
       "      <th>8</th>\n",
       "      <th>9</th>\n",
       "      <th>10</th>\n",
       "      <th>11</th>\n",
       "    </tr>\n",
       "  </thead>\n",
       "  <tbody>\n",
       "    <tr>\n",
       "      <th>0</th>\n",
       "      <td>-23.066153</td>\n",
       "      <td>1.0</td>\n",
       "      <td>-0.619715</td>\n",
       "      <td>-0.409595</td>\n",
       "      <td>0.051123</td>\n",
       "      <td>-0.653007</td>\n",
       "      <td>-2.266061</td>\n",
       "      <td>-0.842047</td>\n",
       "      <td>-0.543099</td>\n",
       "      <td>-1.323340</td>\n",
       "      <td>0.320817</td>\n",
       "      <td>-0.013815</td>\n",
       "    </tr>\n",
       "    <tr>\n",
       "      <th>1</th>\n",
       "      <td>-32.167956</td>\n",
       "      <td>0.0</td>\n",
       "      <td>-2.036759</td>\n",
       "      <td>0.315053</td>\n",
       "      <td>-0.076482</td>\n",
       "      <td>0.326428</td>\n",
       "      <td>0.583478</td>\n",
       "      <td>-0.863824</td>\n",
       "      <td>-0.532494</td>\n",
       "      <td>-0.736548</td>\n",
       "      <td>-0.885278</td>\n",
       "      <td>-0.536550</td>\n",
       "    </tr>\n",
       "    <tr>\n",
       "      <th>2</th>\n",
       "      <td>-19.897460</td>\n",
       "      <td>0.0</td>\n",
       "      <td>-0.552580</td>\n",
       "      <td>-1.193672</td>\n",
       "      <td>-0.448974</td>\n",
       "      <td>0.009901</td>\n",
       "      <td>1.163386</td>\n",
       "      <td>-0.634438</td>\n",
       "      <td>-0.048449</td>\n",
       "      <td>-0.722991</td>\n",
       "      <td>0.062281</td>\n",
       "      <td>-1.238948</td>\n",
       "    </tr>\n",
       "    <tr>\n",
       "      <th>3</th>\n",
       "      <td>56.164266</td>\n",
       "      <td>1.0</td>\n",
       "      <td>1.050837</td>\n",
       "      <td>0.747434</td>\n",
       "      <td>1.359202</td>\n",
       "      <td>0.732005</td>\n",
       "      <td>1.128864</td>\n",
       "      <td>0.237570</td>\n",
       "      <td>0.983800</td>\n",
       "      <td>0.258204</td>\n",
       "      <td>1.558166</td>\n",
       "      <td>-0.066812</td>\n",
       "    </tr>\n",
       "    <tr>\n",
       "      <th>4</th>\n",
       "      <td>4.888887</td>\n",
       "      <td>1.0</td>\n",
       "      <td>-0.923931</td>\n",
       "      <td>-0.014647</td>\n",
       "      <td>-1.187197</td>\n",
       "      <td>0.200355</td>\n",
       "      <td>0.869809</td>\n",
       "      <td>1.281146</td>\n",
       "      <td>-0.404164</td>\n",
       "      <td>-0.011662</td>\n",
       "      <td>1.065090</td>\n",
       "      <td>-0.223672</td>\n",
       "    </tr>\n",
       "    <tr>\n",
       "      <th>...</th>\n",
       "      <td>...</td>\n",
       "      <td>...</td>\n",
       "      <td>...</td>\n",
       "      <td>...</td>\n",
       "      <td>...</td>\n",
       "      <td>...</td>\n",
       "      <td>...</td>\n",
       "      <td>...</td>\n",
       "      <td>...</td>\n",
       "      <td>...</td>\n",
       "      <td>...</td>\n",
       "      <td>...</td>\n",
       "    </tr>\n",
       "    <tr>\n",
       "      <th>995</th>\n",
       "      <td>48.463334</td>\n",
       "      <td>1.0</td>\n",
       "      <td>0.428039</td>\n",
       "      <td>0.980896</td>\n",
       "      <td>0.740759</td>\n",
       "      <td>1.198462</td>\n",
       "      <td>0.720961</td>\n",
       "      <td>0.905853</td>\n",
       "      <td>0.977105</td>\n",
       "      <td>1.891551</td>\n",
       "      <td>0.830443</td>\n",
       "      <td>0.626460</td>\n",
       "    </tr>\n",
       "    <tr>\n",
       "      <th>996</th>\n",
       "      <td>-4.459582</td>\n",
       "      <td>1.0</td>\n",
       "      <td>-0.084850</td>\n",
       "      <td>-1.411363</td>\n",
       "      <td>-1.006342</td>\n",
       "      <td>-0.346813</td>\n",
       "      <td>-0.431944</td>\n",
       "      <td>0.130147</td>\n",
       "      <td>-0.424787</td>\n",
       "      <td>-0.241145</td>\n",
       "      <td>1.176952</td>\n",
       "      <td>0.080206</td>\n",
       "    </tr>\n",
       "    <tr>\n",
       "      <th>997</th>\n",
       "      <td>56.255447</td>\n",
       "      <td>1.0</td>\n",
       "      <td>1.688552</td>\n",
       "      <td>-0.459032</td>\n",
       "      <td>1.565500</td>\n",
       "      <td>1.174936</td>\n",
       "      <td>1.529734</td>\n",
       "      <td>0.496188</td>\n",
       "      <td>0.571821</td>\n",
       "      <td>1.063741</td>\n",
       "      <td>-0.000280</td>\n",
       "      <td>0.673729</td>\n",
       "    </tr>\n",
       "    <tr>\n",
       "      <th>998</th>\n",
       "      <td>43.523842</td>\n",
       "      <td>0.0</td>\n",
       "      <td>0.831329</td>\n",
       "      <td>0.268950</td>\n",
       "      <td>0.099929</td>\n",
       "      <td>0.040925</td>\n",
       "      <td>2.373481</td>\n",
       "      <td>1.255437</td>\n",
       "      <td>0.564513</td>\n",
       "      <td>0.202533</td>\n",
       "      <td>1.114641</td>\n",
       "      <td>1.327787</td>\n",
       "    </tr>\n",
       "    <tr>\n",
       "      <th>999</th>\n",
       "      <td>-27.292166</td>\n",
       "      <td>1.0</td>\n",
       "      <td>-0.335126</td>\n",
       "      <td>-0.482440</td>\n",
       "      <td>-1.103533</td>\n",
       "      <td>-0.155403</td>\n",
       "      <td>-1.212123</td>\n",
       "      <td>-0.495262</td>\n",
       "      <td>-0.586011</td>\n",
       "      <td>1.022406</td>\n",
       "      <td>-1.288846</td>\n",
       "      <td>-0.531586</td>\n",
       "    </tr>\n",
       "  </tbody>\n",
       "</table>\n",
       "<p>1000 rows × 12 columns</p>\n",
       "</div>"
      ],
      "text/plain": [
       "            0    1         2         3         4         5         6   \\\n",
       "0   -23.066153  1.0 -0.619715 -0.409595  0.051123 -0.653007 -2.266061   \n",
       "1   -32.167956  0.0 -2.036759  0.315053 -0.076482  0.326428  0.583478   \n",
       "2   -19.897460  0.0 -0.552580 -1.193672 -0.448974  0.009901  1.163386   \n",
       "3    56.164266  1.0  1.050837  0.747434  1.359202  0.732005  1.128864   \n",
       "4     4.888887  1.0 -0.923931 -0.014647 -1.187197  0.200355  0.869809   \n",
       "..         ...  ...       ...       ...       ...       ...       ...   \n",
       "995  48.463334  1.0  0.428039  0.980896  0.740759  1.198462  0.720961   \n",
       "996  -4.459582  1.0 -0.084850 -1.411363 -1.006342 -0.346813 -0.431944   \n",
       "997  56.255447  1.0  1.688552 -0.459032  1.565500  1.174936  1.529734   \n",
       "998  43.523842  0.0  0.831329  0.268950  0.099929  0.040925  2.373481   \n",
       "999 -27.292166  1.0 -0.335126 -0.482440 -1.103533 -0.155403 -1.212123   \n",
       "\n",
       "           7         8         9         10        11  \n",
       "0   -0.842047 -0.543099 -1.323340  0.320817 -0.013815  \n",
       "1   -0.863824 -0.532494 -0.736548 -0.885278 -0.536550  \n",
       "2   -0.634438 -0.048449 -0.722991  0.062281 -1.238948  \n",
       "3    0.237570  0.983800  0.258204  1.558166 -0.066812  \n",
       "4    1.281146 -0.404164 -0.011662  1.065090 -0.223672  \n",
       "..        ...       ...       ...       ...       ...  \n",
       "995  0.905853  0.977105  1.891551  0.830443  0.626460  \n",
       "996  0.130147 -0.424787 -0.241145  1.176952  0.080206  \n",
       "997  0.496188  0.571821  1.063741 -0.000280  0.673729  \n",
       "998  1.255437  0.564513  0.202533  1.114641  1.327787  \n",
       "999 -0.495262 -0.586011  1.022406 -1.288846 -0.531586  \n",
       "\n",
       "[1000 rows x 12 columns]"
      ]
     },
     "metadata": {},
     "output_type": "display_data"
    }
   ],
   "source": [
    "experiment1.context_load(tau = 5,corr = .5,conf=False,p = 10,p0 = 10,flagX = 1,N = 1000)\n",
    "\n",
    "experiment1.DGP_experiment1(save_csv = \"experiment1_data.csv\")"
   ]
  },
  {
   "cell_type": "markdown",
   "id": "81b6347f",
   "metadata": {
    "id": "81b6347f"
   },
   "source": [
    "## 2.2 Illustrate DGP with a DAG"
   ]
  },
  {
   "cell_type": "code",
   "execution_count": 53,
   "id": "1e434d9c",
   "metadata": {
    "colab": {
     "base_uri": "https://localhost:8080/",
     "height": 176
    },
    "id": "1e434d9c",
    "outputId": "cdc44a22-73ca-429e-e978-9b8bcb42c5aa"
   },
   "outputs": [
    {
     "data": {
      "image/svg+xml": [
       "<?xml version=\"1.0\" encoding=\"UTF-8\" standalone=\"no\"?>\n",
       "<!DOCTYPE svg PUBLIC \"-//W3C//DTD SVG 1.1//EN\"\n",
       " \"http://www.w3.org/Graphics/SVG/1.1/DTD/svg11.dtd\">\n",
       "<!-- Generated by graphviz version 3.0.0 (20220226.1711)\n",
       " -->\n",
       "<!-- Pages: 1 -->\n",
       "<svg width=\"134pt\" height=\"116pt\"\n",
       " viewBox=\"0.00 0.00 134.00 116.00\" xmlns=\"http://www.w3.org/2000/svg\" xmlns:xlink=\"http://www.w3.org/1999/xlink\">\n",
       "<g id=\"graph0\" class=\"graph\" transform=\"scale(1 1) rotate(0) translate(4 112)\">\n",
       "<polygon fill=\"white\" stroke=\"transparent\" points=\"-4,4 -4,-112 130,-112 130,4 -4,4\"/>\n",
       "<!-- W -->\n",
       "<g id=\"node1\" class=\"node\">\n",
       "<title>W</title>\n",
       "<ellipse fill=\"none\" stroke=\"black\" cx=\"27\" cy=\"-90\" rx=\"27\" ry=\"18\"/>\n",
       "<text text-anchor=\"middle\" x=\"27\" y=\"-86.3\" font-family=\"Times,serif\" font-size=\"14.00\">W</text>\n",
       "</g>\n",
       "<!-- Y -->\n",
       "<g id=\"node2\" class=\"node\">\n",
       "<title>Y</title>\n",
       "<ellipse fill=\"none\" stroke=\"black\" cx=\"63\" cy=\"-18\" rx=\"27\" ry=\"18\"/>\n",
       "<text text-anchor=\"middle\" x=\"63\" y=\"-14.3\" font-family=\"Times,serif\" font-size=\"14.00\">Y</text>\n",
       "</g>\n",
       "<!-- W&#45;&gt;Y -->\n",
       "<g id=\"edge1\" class=\"edge\">\n",
       "<title>W&#45;&gt;Y</title>\n",
       "<path fill=\"none\" stroke=\"black\" d=\"M35.35,-72.76C39.71,-64.28 45.15,-53.71 50.04,-44.2\"/>\n",
       "<polygon fill=\"black\" stroke=\"black\" points=\"53.23,-45.64 54.7,-35.15 47.01,-42.44 53.23,-45.64\"/>\n",
       "</g>\n",
       "<!-- T -->\n",
       "<g id=\"node3\" class=\"node\">\n",
       "<title>T</title>\n",
       "<ellipse fill=\"none\" stroke=\"black\" cx=\"99\" cy=\"-90\" rx=\"27\" ry=\"18\"/>\n",
       "<text text-anchor=\"middle\" x=\"99\" y=\"-86.3\" font-family=\"Times,serif\" font-size=\"14.00\">T</text>\n",
       "</g>\n",
       "<!-- T&#45;&gt;Y -->\n",
       "<g id=\"edge2\" class=\"edge\">\n",
       "<title>T&#45;&gt;Y</title>\n",
       "<path fill=\"none\" stroke=\"black\" d=\"M90.65,-72.76C86.29,-64.28 80.85,-53.71 75.96,-44.2\"/>\n",
       "<polygon fill=\"black\" stroke=\"black\" points=\"78.99,-42.44 71.3,-35.15 72.77,-45.64 78.99,-42.44\"/>\n",
       "</g>\n",
       "</g>\n",
       "</svg>\n"
      ],
      "text/plain": [
       "<graphviz.graphs.Digraph at 0x7f8cec931eb0>"
      ]
     },
     "execution_count": 53,
     "metadata": {},
     "output_type": "execute_result"
    }
   ],
   "source": [
    "g = gr.Digraph()\n",
    "g.edge(\"W\", \"Y\")\n",
    "g.edge(\"T\", \"Y\")\n",
    "g"
   ]
  },
  {
   "cell_type": "markdown",
   "id": "d60ddcb5",
   "metadata": {
    "id": "d60ddcb5"
   },
   "source": [
    "## 2.3. Monte Carlo experiment\n"
   ]
  },
  {
   "cell_type": "markdown",
   "id": "gof1Jx2JjIP_",
   "metadata": {
    "id": "gof1Jx2JjIP_"
   },
   "source": [
    "###  2.3 a.) Do not control for any covariates\n",
    "Since we are not controlling the covariates, the observed RMSE is high"
   ]
  },
  {
   "cell_type": "code",
   "execution_count": 55,
   "id": "b443069c",
   "metadata": {
    "colab": {
     "base_uri": "https://localhost:8080/"
    },
    "id": "b443069c",
    "outputId": "aab06472-213c-43b9-c6c9-69f89f82db63"
   },
   "outputs": [
    {
     "name": "stderr",
     "output_type": "stream",
     "text": [
      "100%|████████████████████████████████████████| 500/500 [00:01<00:00, 434.48it/s]\n",
      "100%|█████████████████████████████████████████| 500/500 [00:05<00:00, 87.79it/s]"
     ]
    },
    {
     "name": "stdout",
     "output_type": "stream",
     "text": [
      "\n",
      "N=100: bias=0.4216873456396987, RMSE=5.445688428841808, size=0.048\n",
      "N=1000: bias=0.03670899940555099, RMSE=1.7645049995991302, size=0.052\n"
     ]
    },
    {
     "name": "stderr",
     "output_type": "stream",
     "text": [
      "\n"
     ]
    }
   ],
   "source": [
    "def monte_carlo_experiment1_a():\n",
    "  p = 10\n",
    "  p0 = 10\n",
    "  estDict = {}\n",
    "  R = 500\n",
    "  for N in [100,1000]:\n",
    "      tauhats = []\n",
    "      sehats = []\n",
    "      for r in tqdm(range(R)):\n",
    "          Yexp,T,X = fn_generate_data(tau,N,p,p0,corr,conf,flagX)\n",
    "          Yt = Yexp[np.where(T==1)[0],:]\n",
    "          Yc = Yexp[np.where(T==0)[0],:]\n",
    "\n",
    "          # Since we do not control any covaraites, we only perform regression on T\n",
    "          mod = sm.OLS(Yexp,T)\n",
    "          res = mod.fit()\n",
    "          tauhat = res.params[0]\n",
    "          se_tauhat = res.HC1_se[0]    \n",
    "          tauhats = tauhats + [tauhat]\n",
    "          sehats = sehats + [se_tauhat]\n",
    "      estDict[N] = {\n",
    "          'tauhat':np.array(tauhats).reshape([len(tauhats),1]),\n",
    "          'sehat':np.array(sehats).reshape([len(sehats),1])\n",
    "      }\n",
    "      tau0 = tau*np.ones([R,1])\n",
    "  # Prints empty line to format with tqdm\n",
    "  print()\n",
    "  for N, results in estDict.items():\n",
    "    (bias,rmse,size) = fn_bias_rmse_size(tau0,results['tauhat'],\n",
    "                                          results['sehat'])\n",
    "    print(f'N={N}: bias={bias}, RMSE={rmse}, size={size}')\n",
    "\n",
    "monte_carlo_experiment1_a()"
   ]
  },
  {
   "cell_type": "markdown",
   "id": "249786e2",
   "metadata": {
    "id": "249786e2"
   },
   "source": [
    "### 2.3 b.) Control for all the covariates that affect the outcome\n",
    "Here, since we are controlling the covariates, the observed RMSE is significantly smaller"
   ]
  },
  {
   "cell_type": "code",
   "execution_count": 36,
   "id": "6fd06937",
   "metadata": {
    "colab": {
     "base_uri": "https://localhost:8080/"
    },
    "id": "6fd06937",
    "outputId": "f61c4c81-4c79-41e0-8501-21790e8278de"
   },
   "outputs": [
    {
     "name": "stderr",
     "output_type": "stream",
     "text": [
      "100%|████████████████████████████████████████| 500/500 [00:03<00:00, 129.40it/s]\n",
      "100%|█████████████████████████████████████████| 500/500 [00:11<00:00, 45.08it/s]"
     ]
    },
    {
     "name": "stdout",
     "output_type": "stream",
     "text": [
      "\n",
      "N=100: bias=0.008064652747538596, RMSE=0.18605683271546575, size=0.04\n",
      "N=1000: bias=0.0009147741817410288, RMSE=0.04360676340089051, size=0.048\n"
     ]
    },
    {
     "name": "stderr",
     "output_type": "stream",
     "text": [
      "\n"
     ]
    }
   ],
   "source": [
    "def monte_carlo_experiment1_b():\n",
    "  estDict = {}\n",
    "  R = 500\n",
    "  for N in [100,1000]:\n",
    "      tauhats = []\n",
    "      sehats = []\n",
    "      for r in tqdm(range(R)):\n",
    "          Yexp,T,X = fn_generate_data(tau,N,p,p0,corr,conf,flagX)\n",
    "          Xobs = X[:,:p0]\n",
    "          covars = np.concatenate([T,Xobs],axis = 1)\n",
    "          mod = sm.OLS(Yexp,covars)\n",
    "          res = mod.fit()\n",
    "          tauhat = res.params[0]\n",
    "          se_tauhat = res.HC1_se[0]    \n",
    "          tauhats = tauhats + [tauhat]\n",
    "          sehats = sehats + [se_tauhat]\n",
    "      estDict[N] = {\n",
    "          'tauhat':np.array(tauhats).reshape([len(tauhats),1]),\n",
    "          'sehat':np.array(sehats).reshape([len(sehats),1])\n",
    "      }\n",
    "  tau0 = tau*np.ones([R,1])\n",
    "  # Prints empty line to format with tqdm\n",
    "  print()\n",
    "  for N, results in estDict.items():\n",
    "      (bias,rmse,size) = fn_bias_rmse_size(tau0,results['tauhat'],\n",
    "                                          results['sehat'])\n",
    "      print(f'N={N}: bias={bias}, RMSE={rmse}, size={size}')\n",
    "monte_carlo_experiment1_b()"
   ]
  },
  {
   "cell_type": "markdown",
   "id": "1d66bd46",
   "metadata": {
    "id": "1d66bd46"
   },
   "source": [
    "## 2.4. Example of a real-life\n",
    "\n",
    "Y = Test Score\n",
    "\n",
    "T = Studying Technique\n",
    "\n",
    "W = Time Spending on Study"
   ]
  },
  {
   "cell_type": "markdown",
   "id": "84e28024",
   "metadata": {
    "id": "84e28024"
   },
   "source": [
    "# 3. Environment 2: DGP with a confounder:\n",
    "Here, we will work with the following environment:$$T = a*C+u$$\n",
    "\n",
    "We attempt to analyze this environment with four approaches:\n",
    "1. Simulate a DGP\n",
    "2. Illustrate DGP with DAG\n",
    "3. Monte Carlo Experiment\n",
    "4. Provide a real-life example where this environment might have take place"
   ]
  },
  {
   "cell_type": "markdown",
   "id": "4388709e",
   "metadata": {
    "id": "4388709e"
   },
   "source": [
    "## 3.1.Simulate a DGP"
   ]
  },
  {
   "cell_type": "code",
   "execution_count": 37,
   "id": "2ea0375c",
   "metadata": {
    "id": "2ea0375c"
   },
   "outputs": [],
   "source": [
    "def fn_generate_data2(tau,N,p,corr):\n",
    "    \n",
    "    nvar = p+2 # 1 confounder and variable for randomizing treatment\n",
    "    corr = 0.5 # correlation for multivariate normal\n",
    "    allX = fn_generate_multnorm(N,corr,nvar)\n",
    "    \n",
    "    C = allX[:,1].reshape([N,1]) # confounder\n",
    "    T = fn_randomize_treatment(N) # choose treated units\n",
    "    err = np.random.normal(0,1,[N,1])\n",
    "    \n",
    "    Tab = T+0.5*C\n",
    "    Yab = tau*Tab+0.6*C+err\n",
    "    return (Yab,Tab,C)"
   ]
  },
  {
   "cell_type": "code",
   "execution_count": 38,
   "id": "8d063297",
   "metadata": {
    "colab": {
     "base_uri": "https://localhost:8080/",
     "height": 424
    },
    "id": "8d063297",
    "outputId": "9470d453-fad5-4f41-89b2-6ecc316741da"
   },
   "outputs": [
    {
     "data": {
      "text/html": [
       "<div>\n",
       "<style scoped>\n",
       "    .dataframe tbody tr th:only-of-type {\n",
       "        vertical-align: middle;\n",
       "    }\n",
       "\n",
       "    .dataframe tbody tr th {\n",
       "        vertical-align: top;\n",
       "    }\n",
       "\n",
       "    .dataframe thead th {\n",
       "        text-align: right;\n",
       "    }\n",
       "</style>\n",
       "<table border=\"1\" class=\"dataframe\">\n",
       "  <thead>\n",
       "    <tr style=\"text-align: right;\">\n",
       "      <th></th>\n",
       "      <th>0</th>\n",
       "      <th>1</th>\n",
       "      <th>2</th>\n",
       "    </tr>\n",
       "  </thead>\n",
       "  <tbody>\n",
       "    <tr>\n",
       "      <th>0</th>\n",
       "      <td>-0.085337</td>\n",
       "      <td>0.323906</td>\n",
       "      <td>0.647813</td>\n",
       "    </tr>\n",
       "    <tr>\n",
       "      <th>1</th>\n",
       "      <td>2.165347</td>\n",
       "      <td>0.497494</td>\n",
       "      <td>0.994989</td>\n",
       "    </tr>\n",
       "    <tr>\n",
       "      <th>2</th>\n",
       "      <td>0.881637</td>\n",
       "      <td>0.654416</td>\n",
       "      <td>-0.691168</td>\n",
       "    </tr>\n",
       "    <tr>\n",
       "      <th>3</th>\n",
       "      <td>-1.747511</td>\n",
       "      <td>-0.519842</td>\n",
       "      <td>-1.039684</td>\n",
       "    </tr>\n",
       "    <tr>\n",
       "      <th>4</th>\n",
       "      <td>3.804141</td>\n",
       "      <td>0.679794</td>\n",
       "      <td>1.359588</td>\n",
       "    </tr>\n",
       "    <tr>\n",
       "      <th>...</th>\n",
       "      <td>...</td>\n",
       "      <td>...</td>\n",
       "      <td>...</td>\n",
       "    </tr>\n",
       "    <tr>\n",
       "      <th>995</th>\n",
       "      <td>-2.210302</td>\n",
       "      <td>-0.794180</td>\n",
       "      <td>-1.588360</td>\n",
       "    </tr>\n",
       "    <tr>\n",
       "      <th>996</th>\n",
       "      <td>5.211269</td>\n",
       "      <td>2.155716</td>\n",
       "      <td>2.311432</td>\n",
       "    </tr>\n",
       "    <tr>\n",
       "      <th>997</th>\n",
       "      <td>1.828931</td>\n",
       "      <td>0.864157</td>\n",
       "      <td>-0.271686</td>\n",
       "    </tr>\n",
       "    <tr>\n",
       "      <th>998</th>\n",
       "      <td>-0.408871</td>\n",
       "      <td>0.355175</td>\n",
       "      <td>-1.289650</td>\n",
       "    </tr>\n",
       "    <tr>\n",
       "      <th>999</th>\n",
       "      <td>1.168405</td>\n",
       "      <td>0.620505</td>\n",
       "      <td>-0.758989</td>\n",
       "    </tr>\n",
       "  </tbody>\n",
       "</table>\n",
       "<p>1000 rows × 3 columns</p>\n",
       "</div>"
      ],
      "text/plain": [
       "            0         1         2\n",
       "0   -0.085337  0.323906  0.647813\n",
       "1    2.165347  0.497494  0.994989\n",
       "2    0.881637  0.654416 -0.691168\n",
       "3   -1.747511 -0.519842 -1.039684\n",
       "4    3.804141  0.679794  1.359588\n",
       "..        ...       ...       ...\n",
       "995 -2.210302 -0.794180 -1.588360\n",
       "996  5.211269  2.155716  2.311432\n",
       "997  1.828931  0.864157 -0.271686\n",
       "998 -0.408871  0.355175 -1.289650\n",
       "999  1.168405  0.620505 -0.758989\n",
       "\n",
       "[1000 rows x 3 columns]"
      ]
     },
     "metadata": {},
     "output_type": "display_data"
    }
   ],
   "source": [
    "tau = 2\n",
    "p = 100\n",
    "corr = .5\n",
    "N = 1000\n",
    "Y,T,C = fn_generate_data2(tau,N,p,corr)\n",
    "data2 = pd.DataFrame(np.concatenate([Y,T,C], axis=1))\n",
    "display(data2)\n",
    "data2.to_csv('experiment2_data.csv')"
   ]
  },
  {
   "cell_type": "markdown",
   "id": "4c1ebe1b",
   "metadata": {
    "id": "4c1ebe1b"
   },
   "source": [
    "## 3.2.Illustrate DGP with a DAG"
   ]
  },
  {
   "cell_type": "code",
   "execution_count": 39,
   "id": "89190638",
   "metadata": {
    "colab": {
     "base_uri": "https://localhost:8080/",
     "height": 272
    },
    "id": "89190638",
    "outputId": "cf4169db-c7c4-455f-8cd8-bc62c2ee5448"
   },
   "outputs": [
    {
     "data": {
      "image/svg+xml": [
       "<?xml version=\"1.0\" encoding=\"UTF-8\" standalone=\"no\"?>\n",
       "<!DOCTYPE svg PUBLIC \"-//W3C//DTD SVG 1.1//EN\"\n",
       " \"http://www.w3.org/Graphics/SVG/1.1/DTD/svg11.dtd\">\n",
       "<!-- Generated by graphviz version 3.0.0 (20220226.1711)\n",
       " -->\n",
       "<!-- Pages: 1 -->\n",
       "<svg width=\"90pt\" height=\"188pt\"\n",
       " viewBox=\"0.00 0.00 90.00 188.00\" xmlns=\"http://www.w3.org/2000/svg\" xmlns:xlink=\"http://www.w3.org/1999/xlink\">\n",
       "<g id=\"graph0\" class=\"graph\" transform=\"scale(1 1) rotate(0) translate(4 184)\">\n",
       "<polygon fill=\"white\" stroke=\"transparent\" points=\"-4,4 -4,-184 86,-184 86,4 -4,4\"/>\n",
       "<!-- C -->\n",
       "<g id=\"node1\" class=\"node\">\n",
       "<title>C</title>\n",
       "<ellipse fill=\"none\" stroke=\"black\" cx=\"27\" cy=\"-162\" rx=\"27\" ry=\"18\"/>\n",
       "<text text-anchor=\"middle\" x=\"27\" y=\"-158.3\" font-family=\"Times,serif\" font-size=\"14.00\">C</text>\n",
       "</g>\n",
       "<!-- Y -->\n",
       "<g id=\"node2\" class=\"node\">\n",
       "<title>Y</title>\n",
       "<ellipse fill=\"none\" stroke=\"black\" cx=\"27\" cy=\"-18\" rx=\"27\" ry=\"18\"/>\n",
       "<text text-anchor=\"middle\" x=\"27\" y=\"-14.3\" font-family=\"Times,serif\" font-size=\"14.00\">Y</text>\n",
       "</g>\n",
       "<!-- C&#45;&gt;Y -->\n",
       "<g id=\"edge1\" class=\"edge\">\n",
       "<title>C&#45;&gt;Y</title>\n",
       "<path fill=\"none\" stroke=\"black\" d=\"M23.75,-143.89C21.95,-133.54 19.91,-120.06 19,-108 17.8,-92.04 17.8,-87.96 19,-72 19.64,-63.52 20.84,-54.34 22.12,-46.04\"/>\n",
       "<polygon fill=\"black\" stroke=\"black\" points=\"25.58,-46.55 23.75,-36.11 18.68,-45.41 25.58,-46.55\"/>\n",
       "</g>\n",
       "<!-- T -->\n",
       "<g id=\"node3\" class=\"node\">\n",
       "<title>T</title>\n",
       "<ellipse fill=\"none\" stroke=\"black\" cx=\"55\" cy=\"-90\" rx=\"27\" ry=\"18\"/>\n",
       "<text text-anchor=\"middle\" x=\"55\" y=\"-86.3\" font-family=\"Times,serif\" font-size=\"14.00\">T</text>\n",
       "</g>\n",
       "<!-- C&#45;&gt;T -->\n",
       "<g id=\"edge3\" class=\"edge\">\n",
       "<title>C&#45;&gt;T</title>\n",
       "<path fill=\"none\" stroke=\"black\" d=\"M33.64,-144.41C36.91,-136.22 40.94,-126.14 44.62,-116.95\"/>\n",
       "<polygon fill=\"black\" stroke=\"black\" points=\"47.95,-118.05 48.41,-107.47 41.45,-115.45 47.95,-118.05\"/>\n",
       "</g>\n",
       "<!-- T&#45;&gt;Y -->\n",
       "<g id=\"edge2\" class=\"edge\">\n",
       "<title>T&#45;&gt;Y</title>\n",
       "<path fill=\"none\" stroke=\"black\" d=\"M48.36,-72.41C45.09,-64.22 41.06,-54.14 37.38,-44.95\"/>\n",
       "<polygon fill=\"black\" stroke=\"black\" points=\"40.55,-43.45 33.59,-35.47 34.05,-46.05 40.55,-43.45\"/>\n",
       "</g>\n",
       "</g>\n",
       "</svg>\n"
      ],
      "text/plain": [
       "<graphviz.graphs.Digraph at 0x7f8cf119f9a0>"
      ]
     },
     "execution_count": 39,
     "metadata": {},
     "output_type": "execute_result"
    }
   ],
   "source": [
    "g = gr.Digraph()\n",
    "g.edge(\"C\", \"Y\")\n",
    "g.edge(\"T\", \"Y\")\n",
    "g.edge(\"C\", \"T\")\n",
    "g"
   ]
  },
  {
   "cell_type": "markdown",
   "id": "2a012e55",
   "metadata": {
    "id": "2a012e55"
   },
   "source": [
    "## 3.3 Monte Carlo experiment\n"
   ]
  },
  {
   "cell_type": "markdown",
   "id": "wxD3LCt1k-y_",
   "metadata": {
    "id": "wxD3LCt1k-y_"
   },
   "source": [
    "###  3.3 a.) Fail to control for the confounder"
   ]
  },
  {
   "cell_type": "code",
   "execution_count": 40,
   "id": "f8a2513a",
   "metadata": {
    "colab": {
     "base_uri": "https://localhost:8080/"
    },
    "id": "f8a2513a",
    "outputId": "c9271381-b3f1-496a-ca04-543d3b9ee1f1"
   },
   "outputs": [
    {
     "name": "stderr",
     "output_type": "stream",
     "text": [
      "100%|████████████████████████████████████████| 500/500 [00:02<00:00, 183.81it/s]\n",
      "100%|█████████████████████████████████████████| 500/500 [00:08<00:00, 59.57it/s]"
     ]
    },
    {
     "name": "stdout",
     "output_type": "stream",
     "text": [
      "\n",
      "N=100: bias=0.3789509301283086, RMSE=0.4158223605492153, size=0.758\n",
      "N=1000: bias=0.38659006552883324, RMSE=0.40245529811242253, size=0.992\n"
     ]
    },
    {
     "name": "stderr",
     "output_type": "stream",
     "text": [
      "\n"
     ]
    }
   ],
   "source": [
    "def monte_carlo_experiment2_a():\n",
    "  estDict = {}\n",
    "  R = 500\n",
    "  for N in [100,1000]:\n",
    "      tauhats = []\n",
    "      sehats = []\n",
    "      for r in tqdm(range(R)):\n",
    "          Yexp,T,C = fn_generate_data2(tau,N,p,corr)\n",
    "          mod = sm.OLS(Yexp,T)\n",
    "          res = mod.fit()\n",
    "          tauhat = res.params[0]\n",
    "          se_tauhat = res.HC1_se[0]\n",
    "          tauhats = tauhats + [tauhat]\n",
    "          sehats = sehats + [se_tauhat]\n",
    "      estDict[N] = {\n",
    "          'tauhat':np.array(tauhats).reshape([len(tauhats),1]),\n",
    "          'sehat':np.array(sehats).reshape([len(sehats),1])\n",
    "      }\n",
    "  # Prints empty line to format with tqdm\n",
    "  print()\n",
    "  tau0 = tau*np.ones([R,1])\n",
    "  for N, results in estDict.items():\n",
    "      (bias,rmse,size) = fn_bias_rmse_size(tau0,results['tauhat'],\n",
    "                                          results['sehat'])\n",
    "      print(f'N={N}: bias={bias}, RMSE={rmse}, size={size}')\n",
    "\n",
    "monte_carlo_experiment2_a()"
   ]
  },
  {
   "cell_type": "markdown",
   "id": "00feb2f5",
   "metadata": {
    "id": "00feb2f5"
   },
   "source": [
    "###  3.3 b.) Control for the confounder"
   ]
  },
  {
   "cell_type": "code",
   "execution_count": 41,
   "id": "43ddbb4d",
   "metadata": {
    "colab": {
     "base_uri": "https://localhost:8080/"
    },
    "id": "43ddbb4d",
    "outputId": "e8e71394-56a0-4ab6-c807-d43a4b44a360"
   },
   "outputs": [
    {
     "name": "stderr",
     "output_type": "stream",
     "text": [
      "100%|████████████████████████████████████████| 500/500 [00:02<00:00, 182.03it/s]\n",
      "100%|█████████████████████████████████████████| 500/500 [00:08<00:00, 57.66it/s]"
     ]
    },
    {
     "name": "stdout",
     "output_type": "stream",
     "text": [
      "\n",
      "N=100: bias=-0.0008792699046429627, RMSE=0.1407389620157788, size=0.06\n",
      "N=1000: bias=0.0008133885386832782, RMSE=0.04921348716171876, size=0.08\n"
     ]
    },
    {
     "name": "stderr",
     "output_type": "stream",
     "text": [
      "\n"
     ]
    }
   ],
   "source": [
    "def monte_carlo_experiment2_b():\n",
    "  estDict = {}\n",
    "  R = 500\n",
    "  for N in [100,1000]:\n",
    "      tauhats = []\n",
    "      sehats = []\n",
    "      for r in tqdm(range(R)):\n",
    "          Yexp,T,C = fn_generate_data2(tau,N,p,corr)\n",
    "          covars = np.concatenate([T,C],axis = 1)\n",
    "          mod = sm.OLS(Yexp,covars)\n",
    "          res = mod.fit()\n",
    "          tauhat = res.params[0]\n",
    "          se_tauhat = res.HC1_se[0]\n",
    "          tauhats = tauhats + [tauhat]\n",
    "          sehats = sehats + [se_tauhat]\n",
    "      estDict[N] = {\n",
    "          'tauhat':np.array(tauhats).reshape([len(tauhats),1]),\n",
    "          'sehat':np.array(sehats).reshape([len(sehats),1])\n",
    "      }\n",
    "  # Prints empty line to format with tqdm\n",
    "  print()\n",
    "  tau0 = tau*np.ones([R,1])\n",
    "  for N, results in estDict.items():\n",
    "      (bias,rmse,size) = fn_bias_rmse_size(tau0,results['tauhat'],\n",
    "                                          results['sehat'])\n",
    "      print(f'N={N}: bias={bias}, RMSE={rmse}, size={size}')\n",
    "monte_carlo_experiment2_b()"
   ]
  },
  {
   "cell_type": "markdown",
   "id": "343e84fe",
   "metadata": {
    "id": "343e84fe"
   },
   "source": [
    "## 4.Example of a real-life\n",
    "\n",
    "Y = Death\n",
    "\n",
    "T = Diabetes\n",
    "\n",
    "C = High Blood Pressure"
   ]
  },
  {
   "cell_type": "markdown",
   "id": "fcba7ef2",
   "metadata": {
    "id": "fcba7ef2"
   },
   "source": [
    "# 4. Environment 3: DGP with selection bias:\n",
    "Here, we will work with the following environment:\n",
    "$$Y = \\tau*T+e$$\n",
    "and\n",
    "$$S = a*T+b*Y+u$$\n",
    "\n",
    "We attempt to analyze this environment with four approaches:\n",
    "1. Simulate a DGP\n",
    "2. Illustrate DGP with DAG\n",
    "3. Monte Carlo Experiment\n",
    "4. Provide a real-life example where this environment might have take place"
   ]
  },
  {
   "cell_type": "markdown",
   "id": "33b5b12f",
   "metadata": {
    "id": "33b5b12f"
   },
   "source": [
    "## 4.1. Simulate a DGP"
   ]
  },
  {
   "cell_type": "code",
   "execution_count": 42,
   "id": "61662855",
   "metadata": {
    "colab": {
     "base_uri": "https://localhost:8080/",
     "height": 424
    },
    "id": "61662855",
    "outputId": "004adf58-191c-4f0d-a5ea-eb7d0594750e"
   },
   "outputs": [
    {
     "data": {
      "text/html": [
       "<div>\n",
       "<style scoped>\n",
       "    .dataframe tbody tr th:only-of-type {\n",
       "        vertical-align: middle;\n",
       "    }\n",
       "\n",
       "    .dataframe tbody tr th {\n",
       "        vertical-align: top;\n",
       "    }\n",
       "\n",
       "    .dataframe thead th {\n",
       "        text-align: right;\n",
       "    }\n",
       "</style>\n",
       "<table border=\"1\" class=\"dataframe\">\n",
       "  <thead>\n",
       "    <tr style=\"text-align: right;\">\n",
       "      <th></th>\n",
       "      <th>0</th>\n",
       "      <th>1</th>\n",
       "      <th>2</th>\n",
       "    </tr>\n",
       "  </thead>\n",
       "  <tbody>\n",
       "    <tr>\n",
       "      <th>0</th>\n",
       "      <td>1.775708</td>\n",
       "      <td>1.0</td>\n",
       "      <td>2.661989</td>\n",
       "    </tr>\n",
       "    <tr>\n",
       "      <th>1</th>\n",
       "      <td>0.103785</td>\n",
       "      <td>0.0</td>\n",
       "      <td>0.244242</td>\n",
       "    </tr>\n",
       "    <tr>\n",
       "      <th>2</th>\n",
       "      <td>0.015526</td>\n",
       "      <td>0.0</td>\n",
       "      <td>-0.197796</td>\n",
       "    </tr>\n",
       "    <tr>\n",
       "      <th>3</th>\n",
       "      <td>1.517601</td>\n",
       "      <td>1.0</td>\n",
       "      <td>1.173982</td>\n",
       "    </tr>\n",
       "    <tr>\n",
       "      <th>4</th>\n",
       "      <td>-0.841222</td>\n",
       "      <td>0.0</td>\n",
       "      <td>-2.044158</td>\n",
       "    </tr>\n",
       "    <tr>\n",
       "      <th>...</th>\n",
       "      <td>...</td>\n",
       "      <td>...</td>\n",
       "      <td>...</td>\n",
       "    </tr>\n",
       "    <tr>\n",
       "      <th>995</th>\n",
       "      <td>-0.247455</td>\n",
       "      <td>0.0</td>\n",
       "      <td>-1.621714</td>\n",
       "    </tr>\n",
       "    <tr>\n",
       "      <th>996</th>\n",
       "      <td>-1.642517</td>\n",
       "      <td>0.0</td>\n",
       "      <td>-2.299402</td>\n",
       "    </tr>\n",
       "    <tr>\n",
       "      <th>997</th>\n",
       "      <td>1.777668</td>\n",
       "      <td>1.0</td>\n",
       "      <td>1.778914</td>\n",
       "    </tr>\n",
       "    <tr>\n",
       "      <th>998</th>\n",
       "      <td>0.447615</td>\n",
       "      <td>0.0</td>\n",
       "      <td>-0.255731</td>\n",
       "    </tr>\n",
       "    <tr>\n",
       "      <th>999</th>\n",
       "      <td>0.534518</td>\n",
       "      <td>0.0</td>\n",
       "      <td>1.197569</td>\n",
       "    </tr>\n",
       "  </tbody>\n",
       "</table>\n",
       "<p>1000 rows × 3 columns</p>\n",
       "</div>"
      ],
      "text/plain": [
       "            0    1         2\n",
       "0    1.775708  1.0  2.661989\n",
       "1    0.103785  0.0  0.244242\n",
       "2    0.015526  0.0 -0.197796\n",
       "3    1.517601  1.0  1.173982\n",
       "4   -0.841222  0.0 -2.044158\n",
       "..        ...  ...       ...\n",
       "995 -0.247455  0.0 -1.621714\n",
       "996 -1.642517  0.0 -2.299402\n",
       "997  1.777668  1.0  1.778914\n",
       "998  0.447615  0.0 -0.255731\n",
       "999  0.534518  0.0  1.197569\n",
       "\n",
       "[1000 rows x 3 columns]"
      ]
     },
     "metadata": {},
     "output_type": "display_data"
    }
   ],
   "source": [
    "def fn_generate_data3(tau,N,p,corr):\n",
    "    \n",
    "    nvar = p+2 # 1 confounder and variable for randomizing treatment\n",
    "    corr = 0.5 # correlation for multivariate normal\n",
    "    allX = fn_generate_multnorm(N,corr,nvar)\n",
    "    \n",
    "    T = fn_randomize_treatment(N) # choose treated units\n",
    "    err = np.random.normal(0,1,[N,1])\n",
    "    u = np.random.normal(0,1,[N,1])\n",
    "    \n",
    "    Yab = tau*T+err\n",
    "    S = 0.5*T+0.6*Yab+u\n",
    "    return (Yab,T,S)\n",
    "\n",
    "tau = 2\n",
    "p = 50\n",
    "corr = .5\n",
    "N = 1000\n",
    "\n",
    "Y,T,S = fn_generate_data3(tau,N,p,corr)\n",
    "data3 = pd.DataFrame(np.concatenate([Y,T,S], axis=1))\n",
    "display(data3)"
   ]
  },
  {
   "cell_type": "markdown",
   "id": "QU6AtWRvoV_O",
   "metadata": {
    "id": "QU6AtWRvoV_O"
   },
   "source": [
    "## 4.2.Illustrate DGP with a DAG"
   ]
  },
  {
   "cell_type": "code",
   "execution_count": 43,
   "id": "177ed843",
   "metadata": {
    "colab": {
     "base_uri": "https://localhost:8080/",
     "height": 272
    },
    "id": "177ed843",
    "outputId": "dc7cc258-3d48-4a37-8fc9-503c76e8e062"
   },
   "outputs": [
    {
     "data": {
      "image/svg+xml": [
       "<?xml version=\"1.0\" encoding=\"UTF-8\" standalone=\"no\"?>\n",
       "<!DOCTYPE svg PUBLIC \"-//W3C//DTD SVG 1.1//EN\"\n",
       " \"http://www.w3.org/Graphics/SVG/1.1/DTD/svg11.dtd\">\n",
       "<!-- Generated by graphviz version 3.0.0 (20220226.1711)\n",
       " -->\n",
       "<!-- Pages: 1 -->\n",
       "<svg width=\"90pt\" height=\"188pt\"\n",
       " viewBox=\"0.00 0.00 90.00 188.00\" xmlns=\"http://www.w3.org/2000/svg\" xmlns:xlink=\"http://www.w3.org/1999/xlink\">\n",
       "<g id=\"graph0\" class=\"graph\" transform=\"scale(1 1) rotate(0) translate(4 184)\">\n",
       "<polygon fill=\"white\" stroke=\"transparent\" points=\"-4,4 -4,-184 86,-184 86,4 -4,4\"/>\n",
       "<!-- T -->\n",
       "<g id=\"node1\" class=\"node\">\n",
       "<title>T</title>\n",
       "<ellipse fill=\"none\" stroke=\"black\" cx=\"27\" cy=\"-162\" rx=\"27\" ry=\"18\"/>\n",
       "<text text-anchor=\"middle\" x=\"27\" y=\"-158.3\" font-family=\"Times,serif\" font-size=\"14.00\">T</text>\n",
       "</g>\n",
       "<!-- S -->\n",
       "<g id=\"node2\" class=\"node\">\n",
       "<title>S</title>\n",
       "<ellipse fill=\"none\" stroke=\"black\" cx=\"27\" cy=\"-18\" rx=\"27\" ry=\"18\"/>\n",
       "<text text-anchor=\"middle\" x=\"27\" y=\"-14.3\" font-family=\"Times,serif\" font-size=\"14.00\">S</text>\n",
       "</g>\n",
       "<!-- T&#45;&gt;S -->\n",
       "<g id=\"edge1\" class=\"edge\">\n",
       "<title>T&#45;&gt;S</title>\n",
       "<path fill=\"none\" stroke=\"black\" d=\"M23.75,-143.89C21.95,-133.54 19.91,-120.06 19,-108 17.8,-92.04 17.8,-87.96 19,-72 19.64,-63.52 20.84,-54.34 22.12,-46.04\"/>\n",
       "<polygon fill=\"black\" stroke=\"black\" points=\"25.58,-46.55 23.75,-36.11 18.68,-45.41 25.58,-46.55\"/>\n",
       "</g>\n",
       "<!-- Y -->\n",
       "<g id=\"node3\" class=\"node\">\n",
       "<title>Y</title>\n",
       "<ellipse fill=\"none\" stroke=\"black\" cx=\"55\" cy=\"-90\" rx=\"27\" ry=\"18\"/>\n",
       "<text text-anchor=\"middle\" x=\"55\" y=\"-86.3\" font-family=\"Times,serif\" font-size=\"14.00\">Y</text>\n",
       "</g>\n",
       "<!-- T&#45;&gt;Y -->\n",
       "<g id=\"edge2\" class=\"edge\">\n",
       "<title>T&#45;&gt;Y</title>\n",
       "<path fill=\"none\" stroke=\"black\" d=\"M33.64,-144.41C36.91,-136.22 40.94,-126.14 44.62,-116.95\"/>\n",
       "<polygon fill=\"black\" stroke=\"black\" points=\"47.95,-118.05 48.41,-107.47 41.45,-115.45 47.95,-118.05\"/>\n",
       "</g>\n",
       "<!-- Y&#45;&gt;S -->\n",
       "<g id=\"edge3\" class=\"edge\">\n",
       "<title>Y&#45;&gt;S</title>\n",
       "<path fill=\"none\" stroke=\"black\" d=\"M48.36,-72.41C45.09,-64.22 41.06,-54.14 37.38,-44.95\"/>\n",
       "<polygon fill=\"black\" stroke=\"black\" points=\"40.55,-43.45 33.59,-35.47 34.05,-46.05 40.55,-43.45\"/>\n",
       "</g>\n",
       "</g>\n",
       "</svg>\n"
      ],
      "text/plain": [
       "<graphviz.graphs.Digraph at 0x7f8cf1241f70>"
      ]
     },
     "execution_count": 43,
     "metadata": {},
     "output_type": "execute_result"
    }
   ],
   "source": [
    "g = gr.Digraph()\n",
    "g.edge(\"T\", \"S\")\n",
    "g.edge(\"T\", \"Y\")\n",
    "g.edge(\"Y\", \"S\")\n",
    "g"
   ]
  },
  {
   "cell_type": "markdown",
   "id": "5a22cb73",
   "metadata": {
    "id": "5a22cb73"
   },
   "source": [
    "## 4.3.Monte Carlo experiment\n"
   ]
  },
  {
   "cell_type": "markdown",
   "id": "S-HoFzskoawO",
   "metadata": {
    "id": "S-HoFzskoawO"
   },
   "source": [
    "###  4.3 a.)control for the variable in between the path from cause to effect"
   ]
  },
  {
   "cell_type": "code",
   "execution_count": 44,
   "id": "98c3e148",
   "metadata": {
    "colab": {
     "base_uri": "https://localhost:8080/"
    },
    "id": "98c3e148",
    "outputId": "38950191-883a-4ed7-e696-4031c7f3096f"
   },
   "outputs": [
    {
     "name": "stderr",
     "output_type": "stream",
     "text": [
      "100%|████████████████████████████████████████| 500/500 [00:01<00:00, 311.42it/s]\n",
      "100%|█████████████████████████████████████████| 500/500 [00:06<00:00, 82.63it/s]"
     ]
    },
    {
     "name": "stdout",
     "output_type": "stream",
     "text": [
      "\n",
      "N=100: bias=-0.7551591082908319, RMSE=0.7753612240145913, size=0.98\n",
      "N=1000: bias=-0.7510518080541199, RMSE=0.7531825367708121, size=1.0\n"
     ]
    },
    {
     "name": "stderr",
     "output_type": "stream",
     "text": [
      "\n"
     ]
    }
   ],
   "source": [
    "def monte_carlo_experiment3_a():\n",
    "  estDict = {}\n",
    "  R = 500\n",
    "  for N in [100,1000]:\n",
    "      tauhats = []\n",
    "      sehats = []\n",
    "      for r in tqdm(range(R)):\n",
    "          Yexp,T,S = fn_generate_data3(tau,N,p,corr)\n",
    "          covars = np.concatenate([T,S],axis = 1)\n",
    "          mod = sm.OLS(Yexp,covars)\n",
    "          res = mod.fit()\n",
    "          tauhat = res.params[0]\n",
    "          se_tauhat = res.HC1_se[0]\n",
    "          tauhats = tauhats + [tauhat]\n",
    "          sehats = sehats + [se_tauhat]\n",
    "      estDict[N] = {\n",
    "          'tauhat':np.array(tauhats).reshape([len(tauhats),1]),\n",
    "          'sehat':np.array(sehats).reshape([len(sehats),1])\n",
    "      }\n",
    "  print()\n",
    "  tau0 = tau*np.ones([R,1])\n",
    "  for N, results in estDict.items():\n",
    "      (bias,rmse,size) = fn_bias_rmse_size(tau0,results['tauhat'],\n",
    "                                          results['sehat'])\n",
    "      print(f'N={N}: bias={bias}, RMSE={rmse}, size={size}')\n",
    "monte_carlo_experiment3_a()"
   ]
  },
  {
   "cell_type": "code",
   "execution_count": null,
   "id": "be30ec74",
   "metadata": {
    "id": "be30ec74",
    "outputId": "9808579e-440b-414f-8aca-84fccd96a184"
   },
   "outputs": [],
   "source": []
  },
  {
   "cell_type": "markdown",
   "id": "db2f0ff9",
   "metadata": {
    "id": "db2f0ff9"
   },
   "source": [
    "###  4.3 b.)control for the variable in between the path from cause to effect"
   ]
  },
  {
   "cell_type": "code",
   "execution_count": 45,
   "id": "6d051c46",
   "metadata": {
    "colab": {
     "base_uri": "https://localhost:8080/"
    },
    "id": "6d051c46",
    "outputId": "87d78d8e-46a8-4b20-d389-f3f5fd5716a5"
   },
   "outputs": [
    {
     "name": "stderr",
     "output_type": "stream",
     "text": [
      "100%|████████████████████████████████████████| 500/500 [00:01<00:00, 296.19it/s]\n",
      "100%|█████████████████████████████████████████| 500/500 [00:06<00:00, 72.33it/s]"
     ]
    },
    {
     "name": "stdout",
     "output_type": "stream",
     "text": [
      "\n",
      "N=100: bias=0.009052256494285836, RMSE=0.145911677665711, size=0.058\n",
      "N=1000: bias=0.0028734400057015305, RMSE=0.04369651079190964, size=0.048\n"
     ]
    },
    {
     "name": "stderr",
     "output_type": "stream",
     "text": [
      "\n"
     ]
    }
   ],
   "source": [
    "def monte_carlo_experiment3_b():\n",
    "  estDict = {}\n",
    "  R = 500\n",
    "  for N in [100,1000]:\n",
    "      tauhats = []\n",
    "      sehats = []\n",
    "      for r in tqdm(range(R)):\n",
    "          Yexp,T,S = fn_generate_data3(tau,N,p,corr)\n",
    "          Yt = Yexp[np.where(T==1)[0],:]\n",
    "          Yc = Yexp[np.where(T==0)[0],:]\n",
    "          mod = sm.OLS(Yexp,T)\n",
    "          res = mod.fit()\n",
    "          tauhat = res.params[0]\n",
    "          se_tauhat = res.HC1_se[0]\n",
    "          tauhats = tauhats + [tauhat]\n",
    "          sehats = sehats + [se_tauhat]\n",
    "      estDict[N] = {\n",
    "          'tauhat':np.array(tauhats).reshape([len(tauhats),1]),\n",
    "          'sehat':np.array(sehats).reshape([len(sehats),1])\n",
    "      }\n",
    "  print()\n",
    "  tau0 = tau*np.ones([R,1])\n",
    "  for N, results in estDict.items():\n",
    "      (bias,rmse,size) = fn_bias_rmse_size(tau0,results['tauhat'],\n",
    "                                          results['sehat'])\n",
    "      print(f'N={N}: bias={bias}, RMSE={rmse}, size={size}')\n",
    "monte_carlo_experiment3_b()"
   ]
  },
  {
   "cell_type": "markdown",
   "id": "1e97ed9c",
   "metadata": {
    "id": "1e97ed9c"
   },
   "source": [
    "## 4.4 Example of a real-life\n",
    "Suppose a man wanted to figure out the average salary of a bank employee. He took a list of individual income tax payers and started investigating. All of them made more than $2,500. There is selection bias in this result because the tax threshold is ignored, and only those earning more than the threshold will appear on the list. The sample in the study has selection bias."
   ]
  }
 ],
 "metadata": {
  "colab": {
   "name": "570-Meichen.ipynb",
   "provenance": [],
   "toc_visible": true
  },
  "kernelspec": {
   "display_name": "Python 3 (ipykernel)",
   "language": "python",
   "name": "python3"
  },
  "language_info": {
   "codemirror_mode": {
    "name": "ipython",
    "version": 3
   },
   "file_extension": ".py",
   "mimetype": "text/x-python",
   "name": "python",
   "nbconvert_exporter": "python",
   "pygments_lexer": "ipython3",
   "version": "3.9.7"
  }
 },
 "nbformat": 4,
 "nbformat_minor": 5
}
